{
 "cells": [
  {
   "cell_type": "code",
   "execution_count": 1,
   "metadata": {},
   "outputs": [
    {
     "name": "stdout",
     "output_type": "stream",
     "text": [
      "b'gAAAAABjzij1ziOFyOIY_pzpGxNtPFkpH-8d9Lt37ziz_tfQb91PsnXqfJDgCqKYtwm23GDFlQtZ3zpZTyACUgL9wTrSntAG3oKFZ7AlMdSE8hdHB_no6dE='\n"
     ]
    }
   ],
   "source": [
    "from cryptography.fernet import Fernet\n",
    "key = b'PCHl_MjGyEyBxLYha3S-cWg_SDDmjT4YYaKYh4Z7Yug='\n",
    "cipher_suite = Fernet(key)\n",
    "ciphered_text = cipher_suite.encrypt(b\"SQLShack@DemoPass\")   \n",
    "print(ciphered_text)"
   ]
  },
  {
   "cell_type": "code",
   "execution_count": 2,
   "metadata": {},
   "outputs": [
    {
     "name": "stdout",
     "output_type": "stream",
     "text": [
      "b'SQLShack@DemoPass'\n"
     ]
    }
   ],
   "source": [
    "cipheredText = 'gAAAAABjzUG7Ku92NVlknCuHxmbjklUJIuUEwAtc_-LlwCz9C739sSaDuCuD6sl0LtmKoBu39W4KiveoaYwCYYnLrgEK_DVE37okKucIu1ifUHlcgS6Wyhs='\n",
    "uncipheredText = (cipher_suite.decrypt(cipheredText.encode()))\n",
    "print(uncipheredText)"
   ]
  }
 ],
 "metadata": {
  "kernelspec": {
   "display_name": "Python 3",
   "language": "python",
   "name": "python3"
  },
  "language_info": {
   "codemirror_mode": {
    "name": "ipython",
    "version": 3
   },
   "file_extension": ".py",
   "mimetype": "text/x-python",
   "name": "python",
   "nbconvert_exporter": "python",
   "pygments_lexer": "ipython3",
   "version": "3.10.8"
  },
  "orig_nbformat": 4,
  "vscode": {
   "interpreter": {
    "hash": "b0fa6594d8f4cbf19f97940f81e996739fb7646882a419484c72d19e05852a7e"
   }
  }
 },
 "nbformat": 4,
 "nbformat_minor": 2
}
